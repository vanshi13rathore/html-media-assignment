{
 "cells": [
  {
   "cell_type": "markdown",
   "id": "f114ff01-1757-43f3-8d62-6a747b975e27",
   "metadata": {},
   "source": [
    "1 .             a = 2 this is the convention of variable."
   ]
  },
  {
   "cell_type": "code",
   "execution_count": 2,
   "id": "ac950dba-5ca6-4dba-bbe3-0566949b4bde",
   "metadata": {},
   "outputs": [
    {
     "data": {
      "text/plain": [
       "2"
      ]
     },
     "execution_count": 2,
     "metadata": {},
     "output_type": "execute_result"
    }
   ],
   "source": [
    "a"
   ]
  },
  {
   "cell_type": "code",
   "execution_count": 3,
   "id": "0fdf3490-382e-46db-bc4c-7f660b49c54b",
   "metadata": {},
   "outputs": [
    {
     "data": {
      "text/plain": [
       "int"
      ]
     },
     "execution_count": 3,
     "metadata": {},
     "output_type": "execute_result"
    }
   ],
   "source": [
    "type(a)"
   ]
  },
  {
   "cell_type": "code",
   "execution_count": 4,
   "id": "1436dd51-5036-491f-8d88-4455418b104f",
   "metadata": {},
   "outputs": [
    {
     "ename": "NameError",
     "evalue": "name 'him' is not defined",
     "output_type": "error",
     "traceback": [
      "\u001b[0;31m---------------------------------------------------------------------------\u001b[0m",
      "\u001b[0;31mNameError\u001b[0m                                 Traceback (most recent call last)",
      "Cell \u001b[0;32mIn[4], line 1\u001b[0m\n\u001b[0;32m----> 1\u001b[0m d \u001b[38;5;241m=\u001b[39m \u001b[43mhim\u001b[49m\n",
      "\u001b[0;31mNameError\u001b[0m: name 'him' is not defined"
     ]
    }
   ],
   "source": [
    "2.            d = him"
   ]
  },
  {
   "cell_type": "code",
   "execution_count": 5,
   "id": "b647fa56-e51d-4244-a7b8-6bcfd6ab960e",
   "metadata": {},
   "outputs": [],
   "source": [
    "3.          v = \"vanshika\"       yes ,we actually declare a string as a variable name."
   ]
  },
  {
   "cell_type": "code",
   "execution_count": 6,
   "id": "77ee162d-721f-475a-ab37-31e4c213cb77",
   "metadata": {},
   "outputs": [
    {
     "data": {
      "text/plain": [
       "'vanshika'"
      ]
     },
     "execution_count": 6,
     "metadata": {},
     "output_type": "execute_result"
    }
   ],
   "source": [
    "v"
   ]
  },
  {
   "cell_type": "code",
   "execution_count": 7,
   "id": "08966e5f-7bc5-499f-81b1-eb9eae265a00",
   "metadata": {},
   "outputs": [
    {
     "data": {
      "text/plain": [
       "str"
      ]
     },
     "execution_count": 7,
     "metadata": {},
     "output_type": "execute_result"
    }
   ],
   "source": [
    "type(v)"
   ]
  },
  {
   "cell_type": "code",
   "execution_count": 9,
   "id": "8b8b907e-ad00-4e73-8a96-b92bb3bc7b03",
   "metadata": {},
   "outputs": [],
   "source": [
    "4.           g = \"-\"         yes "
   ]
  },
  {
   "cell_type": "code",
   "execution_count": 11,
   "id": "28d1e7f8-91be-4095-8a95-3ba1ace48602",
   "metadata": {},
   "outputs": [
    {
     "data": {
      "text/plain": [
       "'-'"
      ]
     },
     "execution_count": 11,
     "metadata": {},
     "output_type": "execute_result"
    }
   ],
   "source": [
    "g"
   ]
  },
  {
   "cell_type": "code",
   "execution_count": 12,
   "id": "825712a5-4e88-4f26-9a9c-10836239e43f",
   "metadata": {},
   "outputs": [],
   "source": [
    "5.             s = 8"
   ]
  },
  {
   "cell_type": "code",
   "execution_count": 13,
   "id": "bfbf3fce-f3d9-4b26-96d8-c609dd6d5beb",
   "metadata": {},
   "outputs": [
    {
     "data": {
      "text/plain": [
       "8"
      ]
     },
     "execution_count": 13,
     "metadata": {},
     "output_type": "execute_result"
    }
   ],
   "source": [
    "s"
   ]
  },
  {
   "cell_type": "code",
   "execution_count": 14,
   "id": "5d44fd66-90c9-466e-b439-0db90c554dad",
   "metadata": {},
   "outputs": [],
   "source": [
    "s = 4"
   ]
  },
  {
   "cell_type": "code",
   "execution_count": 15,
   "id": "5ce0b9e7-2f8a-4813-bd7e-96a7dba95205",
   "metadata": {},
   "outputs": [
    {
     "data": {
      "text/plain": [
       "4"
      ]
     },
     "execution_count": 15,
     "metadata": {},
     "output_type": "execute_result"
    }
   ],
   "source": [
    "s"
   ]
  },
  {
   "cell_type": "code",
   "execution_count": null,
   "id": "6c09023a-007e-4bed-b381-af0a81da5608",
   "metadata": {},
   "outputs": [],
   "source": []
  }
 ],
 "metadata": {
  "kernelspec": {
   "display_name": "Python 3 (ipykernel)",
   "language": "python",
   "name": "python3"
  },
  "language_info": {
   "codemirror_mode": {
    "name": "ipython",
    "version": 3
   },
   "file_extension": ".py",
   "mimetype": "text/x-python",
   "name": "python",
   "nbconvert_exporter": "python",
   "pygments_lexer": "ipython3",
   "version": "3.10.8"
  }
 },
 "nbformat": 4,
 "nbformat_minor": 5
}
