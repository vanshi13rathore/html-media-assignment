{
 "cells": [
  {
   "cell_type": "code",
   "execution_count": 3,
   "id": "0e515f13-6cc0-4069-972d-fd4ddeb4f278",
   "metadata": {},
   "outputs": [
    {
     "data": {
      "text/plain": [
       "3"
      ]
     },
     "execution_count": 3,
     "metadata": {},
     "output_type": "execute_result"
    }
   ],
   "source": [
    "1+2\n"
   ]
  },
  {
   "cell_type": "code",
   "execution_count": 5,
   "id": "c312c007-a45d-45cf-abcf-69820fde4723",
   "metadata": {},
   "outputs": [],
   "source": [
    "a = 2"
   ]
  },
  {
   "cell_type": "code",
   "execution_count": 6,
   "id": "55f9dbe1-0f50-4ff7-8095-a31cb2d703dd",
   "metadata": {},
   "outputs": [
    {
     "data": {
      "text/plain": [
       "2"
      ]
     },
     "execution_count": 6,
     "metadata": {},
     "output_type": "execute_result"
    }
   ],
   "source": [
    "a"
   ]
  },
  {
   "cell_type": "code",
   "execution_count": 7,
   "id": "62ae5010-ca7f-4fd4-9c3b-f01bf19ff084",
   "metadata": {},
   "outputs": [
    {
     "data": {
      "text/plain": [
       "int"
      ]
     },
     "execution_count": 7,
     "metadata": {},
     "output_type": "execute_result"
    }
   ],
   "source": [
    "type(a)"
   ]
  },
  {
   "cell_type": "code",
   "execution_count": 9,
   "id": "0bd3e538-9f76-45b8-8a33-f5d51d3b1d0a",
   "metadata": {},
   "outputs": [],
   "source": [
    "b = 45.34"
   ]
  },
  {
   "cell_type": "code",
   "execution_count": 10,
   "id": "61fbd4f8-876d-4f3a-abb7-6f3f2c4bf83b",
   "metadata": {},
   "outputs": [
    {
     "data": {
      "text/plain": [
       "45.34"
      ]
     },
     "execution_count": 10,
     "metadata": {},
     "output_type": "execute_result"
    }
   ],
   "source": [
    "b"
   ]
  },
  {
   "cell_type": "code",
   "execution_count": 11,
   "id": "9dfda894-31c8-4aed-a2ec-a2d9eab66111",
   "metadata": {},
   "outputs": [
    {
     "data": {
      "text/plain": [
       "float"
      ]
     },
     "execution_count": 11,
     "metadata": {},
     "output_type": "execute_result"
    }
   ],
   "source": [
    "type(b)"
   ]
  },
  {
   "cell_type": "code",
   "execution_count": 12,
   "id": "7efd6395-af4c-4755-8b0d-e08e6b58fcc6",
   "metadata": {},
   "outputs": [],
   "source": [
    "a = 10"
   ]
  },
  {
   "cell_type": "code",
   "execution_count": 13,
   "id": "35854412-94f9-40fe-be72-6c3d44a7eca2",
   "metadata": {},
   "outputs": [
    {
     "data": {
      "text/plain": [
       "10"
      ]
     },
     "execution_count": 13,
     "metadata": {},
     "output_type": "execute_result"
    }
   ],
   "source": [
    "a"
   ]
  },
  {
   "cell_type": "code",
   "execution_count": 14,
   "id": "883e477e-a3af-4011-a89e-672af48a8d18",
   "metadata": {},
   "outputs": [
    {
     "data": {
      "text/plain": [
       "int"
      ]
     },
     "execution_count": 14,
     "metadata": {},
     "output_type": "execute_result"
    }
   ],
   "source": [
    "type(a)"
   ]
  },
  {
   "cell_type": "code",
   "execution_count": 15,
   "id": "3146f835-8d91-4e0d-9e44-31ae4c982c63",
   "metadata": {},
   "outputs": [],
   "source": [
    "a = 345.456456"
   ]
  },
  {
   "cell_type": "code",
   "execution_count": 17,
   "id": "016d8c57-3c15-4b53-9ff8-2f17a7a8d2af",
   "metadata": {},
   "outputs": [],
   "source": [
    "v = \"vanshika\""
   ]
  },
  {
   "cell_type": "code",
   "execution_count": 18,
   "id": "5f7d3156-16de-427d-ac08-b3b707575a0f",
   "metadata": {},
   "outputs": [
    {
     "data": {
      "text/plain": [
       "'vanshika'"
      ]
     },
     "execution_count": 18,
     "metadata": {},
     "output_type": "execute_result"
    }
   ],
   "source": [
    "v"
   ]
  },
  {
   "cell_type": "code",
   "execution_count": 19,
   "id": "5d441e61-85a0-4e5b-afc2-c4b603def759",
   "metadata": {},
   "outputs": [],
   "source": [
    "c = 'my name is vanshika rathore'"
   ]
  },
  {
   "cell_type": "code",
   "execution_count": 20,
   "id": "6736fce7-bf3c-4116-977e-7ffdb6076840",
   "metadata": {},
   "outputs": [
    {
     "data": {
      "text/plain": [
       "'my name is vanshika rathore'"
      ]
     },
     "execution_count": 20,
     "metadata": {},
     "output_type": "execute_result"
    }
   ],
   "source": [
    "c"
   ]
  },
  {
   "cell_type": "code",
   "execution_count": 21,
   "id": "65678b8a-24cb-4e65-9926-1b0264b23a75",
   "metadata": {},
   "outputs": [
    {
     "data": {
      "text/plain": [
       "str"
      ]
     },
     "execution_count": 21,
     "metadata": {},
     "output_type": "execute_result"
    }
   ],
   "source": [
    "type(v)"
   ]
  },
  {
   "cell_type": "code",
   "execution_count": 22,
   "id": "63891f46-2c52-41ea-9a6a-3eac4482d2e7",
   "metadata": {},
   "outputs": [
    {
     "data": {
      "text/plain": [
       "str"
      ]
     },
     "execution_count": 22,
     "metadata": {},
     "output_type": "execute_result"
    }
   ],
   "source": [
    "type(c)"
   ]
  },
  {
   "cell_type": "code",
   "execution_count": 24,
   "id": "29c55a23-52cc-4249-bcc8-eb81487c3f92",
   "metadata": {},
   "outputs": [],
   "source": [
    "b = True"
   ]
  },
  {
   "cell_type": "code",
   "execution_count": 25,
   "id": "1cd215f1-2050-4d93-a4f8-a7726f70675c",
   "metadata": {},
   "outputs": [
    {
     "data": {
      "text/plain": [
       "bool"
      ]
     },
     "execution_count": 25,
     "metadata": {},
     "output_type": "execute_result"
    }
   ],
   "source": [
    "type(b)"
   ]
  },
  {
   "cell_type": "code",
   "execution_count": 26,
   "id": "8df251bc-ed85-4ea6-adab-8b2c480b8259",
   "metadata": {},
   "outputs": [],
   "source": [
    "b1 = True"
   ]
  },
  {
   "cell_type": "code",
   "execution_count": 27,
   "id": "211982a1-8daa-4eb8-b840-1ce2ab814e3b",
   "metadata": {},
   "outputs": [],
   "source": [
    "b2 = False"
   ]
  },
  {
   "cell_type": "code",
   "execution_count": 28,
   "id": "1a73ea04-4550-44bf-9caf-c2236d3b1c62",
   "metadata": {},
   "outputs": [
    {
     "data": {
      "text/plain": [
       "1"
      ]
     },
     "execution_count": 28,
     "metadata": {},
     "output_type": "execute_result"
    }
   ],
   "source": [
    "b1-b2"
   ]
  },
  {
   "cell_type": "code",
   "execution_count": 30,
   "id": "3ffcb821-daab-44d8-828f-1537f34c6974",
   "metadata": {},
   "outputs": [
    {
     "data": {
      "text/plain": [
       "346.456456"
      ]
     },
     "execution_count": 30,
     "metadata": {},
     "output_type": "execute_result"
    }
   ],
   "source": [
    "a+b1"
   ]
  },
  {
   "cell_type": "code",
   "execution_count": 32,
   "id": "efdb3f77-b313-463b-9424-fa25c710e69d",
   "metadata": {},
   "outputs": [
    {
     "data": {
      "text/plain": [
       "0"
      ]
     },
     "execution_count": 32,
     "metadata": {},
     "output_type": "execute_result"
    }
   ],
   "source": [
    "b1*b2"
   ]
  },
  {
   "cell_type": "code",
   "execution_count": 33,
   "id": "80604615-c53d-46fa-b191-0ffc8ab49325",
   "metadata": {},
   "outputs": [],
   "source": [
    "h = 7+8j"
   ]
  },
  {
   "cell_type": "code",
   "execution_count": 34,
   "id": "e6ea2213-5b7d-40da-a997-049dc1743dba",
   "metadata": {},
   "outputs": [
    {
     "data": {
      "text/plain": [
       "complex"
      ]
     },
     "execution_count": 34,
     "metadata": {},
     "output_type": "execute_result"
    }
   ],
   "source": [
    "type(h)"
   ]
  },
  {
   "cell_type": "code",
   "execution_count": 35,
   "id": "1ebaad56-e403-44f4-98de-2c47369843d9",
   "metadata": {},
   "outputs": [],
   "source": [
    "i=6j"
   ]
  },
  {
   "cell_type": "code",
   "execution_count": 36,
   "id": "00756ded-6478-4e1a-9ec2-8356aca6b50a",
   "metadata": {},
   "outputs": [
    {
     "data": {
      "text/plain": [
       "complex"
      ]
     },
     "execution_count": 36,
     "metadata": {},
     "output_type": "execute_result"
    }
   ],
   "source": [
    "type(i)"
   ]
  },
  {
   "cell_type": "code",
   "execution_count": 37,
   "id": "4a33fec9-aa5c-4222-add9-985272f1838a",
   "metadata": {},
   "outputs": [
    {
     "data": {
      "text/plain": [
       "(7+8j)"
      ]
     },
     "execution_count": 37,
     "metadata": {},
     "output_type": "execute_result"
    }
   ],
   "source": [
    "h"
   ]
  },
  {
   "cell_type": "code",
   "execution_count": 38,
   "id": "b3f8e2a8-6626-4109-862e-f202adbff252",
   "metadata": {},
   "outputs": [
    {
     "data": {
      "text/plain": [
       "7.0"
      ]
     },
     "execution_count": 38,
     "metadata": {},
     "output_type": "execute_result"
    }
   ],
   "source": [
    "h.real"
   ]
  },
  {
   "cell_type": "code",
   "execution_count": 39,
   "id": "1bdaba4a-594f-43fb-b657-1d76780d33ef",
   "metadata": {},
   "outputs": [
    {
     "data": {
      "text/plain": [
       "8.0"
      ]
     },
     "execution_count": 39,
     "metadata": {},
     "output_type": "execute_result"
    }
   ],
   "source": [
    "h.imag"
   ]
  },
  {
   "cell_type": "code",
   "execution_count": 40,
   "id": "2f5f6940-5066-4cd1-bb81-18963ca1b170",
   "metadata": {},
   "outputs": [
    {
     "data": {
      "text/plain": [
       "'vanshika'"
      ]
     },
     "execution_count": 40,
     "metadata": {},
     "output_type": "execute_result"
    }
   ],
   "source": [
    "v"
   ]
  },
  {
   "cell_type": "code",
   "execution_count": null,
   "id": "49f57f10-31ec-40f5-800c-92b7d6da4ff4",
   "metadata": {},
   "outputs": [],
   "source": []
  }
 ],
 "metadata": {
  "kernelspec": {
   "display_name": "Python 3 (ipykernel)",
   "language": "python",
   "name": "python3"
  },
  "language_info": {
   "codemirror_mode": {
    "name": "ipython",
    "version": 3
   },
   "file_extension": ".py",
   "mimetype": "text/x-python",
   "name": "python",
   "nbconvert_exporter": "python",
   "pygments_lexer": "ipython3",
   "version": "3.10.8"
  }
 },
 "nbformat": 4,
 "nbformat_minor": 5
}
