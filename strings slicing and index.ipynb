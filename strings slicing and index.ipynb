{
 "cells": [
  {
   "cell_type": "code",
   "execution_count": 1,
   "id": "9cd682cd-ca5e-437f-8f5f-c9e77e65d549",
   "metadata": {},
   "outputs": [],
   "source": [
    "s = \"pwskills\""
   ]
  },
  {
   "cell_type": "code",
   "execution_count": 2,
   "id": "f218e447-1b57-42fd-aac7-1268fea7ead7",
   "metadata": {},
   "outputs": [
    {
     "data": {
      "text/plain": [
       "'p'"
      ]
     },
     "execution_count": 2,
     "metadata": {},
     "output_type": "execute_result"
    }
   ],
   "source": [
    "s[0]"
   ]
  },
  {
   "cell_type": "code",
   "execution_count": 3,
   "id": "c82f2385-55c9-4c35-bd17-46fc7c7dbd3a",
   "metadata": {},
   "outputs": [
    {
     "data": {
      "text/plain": [
       "'s'"
      ]
     },
     "execution_count": 3,
     "metadata": {},
     "output_type": "execute_result"
    }
   ],
   "source": [
    "s[7]"
   ]
  },
  {
   "cell_type": "code",
   "execution_count": 5,
   "id": "7013511b-573f-4022-9b19-548f55ac8f87",
   "metadata": {},
   "outputs": [
    {
     "data": {
      "text/plain": [
       "'s'"
      ]
     },
     "execution_count": 5,
     "metadata": {},
     "output_type": "execute_result"
    }
   ],
   "source": [
    "s[-1]"
   ]
  },
  {
   "cell_type": "code",
   "execution_count": 6,
   "id": "cfd5e514-8a6a-4c03-9095-32cb0c04bb84",
   "metadata": {},
   "outputs": [
    {
     "data": {
      "text/plain": [
       "'k'"
      ]
     },
     "execution_count": 6,
     "metadata": {},
     "output_type": "execute_result"
    }
   ],
   "source": [
    "s[-5]"
   ]
  },
  {
   "cell_type": "code",
   "execution_count": 7,
   "id": "fe4fede9-f336-45aa-aead-1b82067f17ba",
   "metadata": {},
   "outputs": [
    {
     "data": {
      "text/plain": [
       "'pwskills'"
      ]
     },
     "execution_count": 7,
     "metadata": {},
     "output_type": "execute_result"
    }
   ],
   "source": [
    "s"
   ]
  },
  {
   "cell_type": "code",
   "execution_count": null,
   "id": "27b0705c-f4d0-4128-af23-8406b216731a",
   "metadata": {},
   "outputs": [],
   "source": [
    "s[3:7]"
   ]
  },
  {
   "cell_type": "code",
   "execution_count": 8,
   "id": "3d531c28-c1c5-4a68-ad79-fd3688b7a924",
   "metadata": {},
   "outputs": [
    {
     "data": {
      "text/plain": [
       "'pws'"
      ]
     },
     "execution_count": 8,
     "metadata": {},
     "output_type": "execute_result"
    }
   ],
   "source": [
    "s[0:3]"
   ]
  },
  {
   "cell_type": "code",
   "execution_count": 10,
   "id": "8ffb5002",
   "metadata": {},
   "outputs": [
    {
     "data": {
      "text/plain": [
       "'kill'"
      ]
     },
     "execution_count": 10,
     "metadata": {},
     "output_type": "execute_result"
    }
   ],
   "source": [
    "s[3:7]"
   ]
  },
  {
   "cell_type": "code",
   "execution_count": 11,
   "id": "60eca089-d5e7-443e-b0b2-4022112133bf",
   "metadata": {},
   "outputs": [
    {
     "data": {
      "text/plain": [
       "'psil'"
      ]
     },
     "execution_count": 11,
     "metadata": {},
     "output_type": "execute_result"
    }
   ],
   "source": [
    "s[0:7:2]"
   ]
  },
  {
   "cell_type": "code",
   "execution_count": 12,
   "id": "203b595b-0a62-4a40-b418-86b0627d8a41",
   "metadata": {},
   "outputs": [
    {
     "data": {
      "text/plain": [
       "'kill'"
      ]
     },
     "execution_count": 12,
     "metadata": {},
     "output_type": "execute_result"
    }
   ],
   "source": [
    "s[3:7:1]"
   ]
  },
  {
   "cell_type": "code",
   "execution_count": 13,
   "id": "58e73064-819f-4bf5-b8f8-51c9d2d3b1c8",
   "metadata": {},
   "outputs": [
    {
     "data": {
      "text/plain": [
       "'psil'"
      ]
     },
     "execution_count": 13,
     "metadata": {},
     "output_type": "execute_result"
    }
   ],
   "source": [
    "s[0:100:2]"
   ]
  },
  {
   "cell_type": "code",
   "execution_count": 14,
   "id": "73f3f3e3-9c1d-49cc-917f-cfb71cb1f247",
   "metadata": {},
   "outputs": [
    {
     "data": {
      "text/plain": [
       "''"
      ]
     },
     "execution_count": 14,
     "metadata": {},
     "output_type": "execute_result"
    }
   ],
   "source": [
    "s[0:7:-1]"
   ]
  },
  {
   "cell_type": "code",
   "execution_count": 15,
   "id": "c24533cd-ec23-4604-b499-11c6e3428d4d",
   "metadata": {},
   "outputs": [
    {
     "data": {
      "text/plain": [
       "'lliks'"
      ]
     },
     "execution_count": 15,
     "metadata": {},
     "output_type": "execute_result"
    }
   ],
   "source": [
    "s[6:1:-1]"
   ]
  },
  {
   "cell_type": "code",
   "execution_count": 16,
   "id": "89ee1dba-5675-4b7d-b3bb-da64be3d1f5f",
   "metadata": {},
   "outputs": [
    {
     "data": {
      "text/plain": [
       "'slliksw'"
      ]
     },
     "execution_count": 16,
     "metadata": {},
     "output_type": "execute_result"
    }
   ],
   "source": [
    "s[7:0:-1]"
   ]
  },
  {
   "cell_type": "code",
   "execution_count": 17,
   "id": "9e9026c7-c096-4efb-b3b4-dc6710402104",
   "metadata": {},
   "outputs": [
    {
     "data": {
      "text/plain": [
       "'sllikswp'"
      ]
     },
     "execution_count": 17,
     "metadata": {},
     "output_type": "execute_result"
    }
   ],
   "source": [
    "s[7::-1]"
   ]
  },
  {
   "cell_type": "code",
   "execution_count": 19,
   "id": "86469bd7-819c-4759-9d9c-545e75e97acc",
   "metadata": {},
   "outputs": [
    {
     "data": {
      "text/plain": [
       "'sllikswp'"
      ]
     },
     "execution_count": 19,
     "metadata": {},
     "output_type": "execute_result"
    }
   ],
   "source": [
    "s[7::-1]"
   ]
  },
  {
   "cell_type": "code",
   "execution_count": 20,
   "id": "debfe280-ff5c-4144-970a-4725a33905d3",
   "metadata": {},
   "outputs": [
    {
     "data": {
      "text/plain": [
       "'sllikswp'"
      ]
     },
     "execution_count": 20,
     "metadata": {},
     "output_type": "execute_result"
    }
   ],
   "source": [
    "s[::-1]"
   ]
  },
  {
   "cell_type": "code",
   "execution_count": null,
   "id": "a07b2677-893c-4fc7-b9c9-53390fc70f51",
   "metadata": {},
   "outputs": [],
   "source": []
  }
 ],
 "metadata": {
  "kernelspec": {
   "display_name": "Python 3 (ipykernel)",
   "language": "python",
   "name": "python3"
  },
  "language_info": {
   "codemirror_mode": {
    "name": "ipython",
    "version": 3
   },
   "file_extension": ".py",
   "mimetype": "text/x-python",
   "name": "python",
   "nbconvert_exporter": "python",
   "pygments_lexer": "ipython3",
   "version": "3.10.8"
  }
 },
 "nbformat": 4,
 "nbformat_minor": 5
}
