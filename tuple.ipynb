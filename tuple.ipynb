{
 "cells": [
  {
   "cell_type": "code",
   "execution_count": 2,
   "id": "327e8dda-845a-4506-abe9-cd8e891d53fb",
   "metadata": {},
   "outputs": [],
   "source": [
    "t = ()"
   ]
  },
  {
   "cell_type": "code",
   "execution_count": 3,
   "id": "7c27f5e4-1e4b-4ff7-b2ef-6dde6800dde4",
   "metadata": {},
   "outputs": [
    {
     "data": {
      "text/plain": [
       "tuple"
      ]
     },
     "execution_count": 3,
     "metadata": {},
     "output_type": "execute_result"
    }
   ],
   "source": [
    "type(t)"
   ]
  },
  {
   "cell_type": "code",
   "execution_count": 5,
   "id": "263a75b8-d7f1-4d4a-9068-0d9c6a83debf",
   "metadata": {},
   "outputs": [],
   "source": [
    "t1 = (1,2,3,4,5,\"sudh\",True,5+6j)"
   ]
  },
  {
   "cell_type": "code",
   "execution_count": 6,
   "id": "da0c2858-53c8-451d-bd79-46e92eb3ac0f",
   "metadata": {},
   "outputs": [],
   "source": [
    "l = [1,2,3,4,5,\"sudh\",True,5+6j]"
   ]
  },
  {
   "cell_type": "code",
   "execution_count": 7,
   "id": "c52963c8-1a8b-40ec-a23a-870d67ed8f13",
   "metadata": {},
   "outputs": [
    {
     "data": {
      "text/plain": [
       "tuple"
      ]
     },
     "execution_count": 7,
     "metadata": {},
     "output_type": "execute_result"
    }
   ],
   "source": [
    "type(t1)"
   ]
  },
  {
   "cell_type": "code",
   "execution_count": 8,
   "id": "34c17ced-cfd1-4c04-ad3b-5819313684f6",
   "metadata": {},
   "outputs": [
    {
     "data": {
      "text/plain": [
       "list"
      ]
     },
     "execution_count": 8,
     "metadata": {},
     "output_type": "execute_result"
    }
   ],
   "source": [
    "type(l)"
   ]
  },
  {
   "cell_type": "code",
   "execution_count": 9,
   "id": "657685da-9926-4674-a220-a0a848d76d18",
   "metadata": {},
   "outputs": [
    {
     "data": {
      "text/plain": [
       "'sudh'"
      ]
     },
     "execution_count": 9,
     "metadata": {},
     "output_type": "execute_result"
    }
   ],
   "source": [
    "t1[5]\n"
   ]
  },
  {
   "cell_type": "code",
   "execution_count": 10,
   "id": "876c8a2c-b9d9-43e3-af6f-8bba7cfdd43b",
   "metadata": {},
   "outputs": [
    {
     "data": {
      "text/plain": [
       "'sudh'"
      ]
     },
     "execution_count": 10,
     "metadata": {},
     "output_type": "execute_result"
    }
   ],
   "source": [
    "l[5]\n"
   ]
  },
  {
   "cell_type": "code",
   "execution_count": 11,
   "id": "65eb9615-3e6e-4437-8ce3-dd09f917fb13",
   "metadata": {},
   "outputs": [
    {
     "data": {
      "text/plain": [
       "(1, 2, 3, 4, 5, 'sudh', True, (5+6j))"
      ]
     },
     "execution_count": 11,
     "metadata": {},
     "output_type": "execute_result"
    }
   ],
   "source": [
    "t1"
   ]
  },
  {
   "cell_type": "code",
   "execution_count": 12,
   "id": "3d9c148f-c51e-4a03-81ad-40b1e70008f4",
   "metadata": {},
   "outputs": [
    {
     "data": {
      "text/plain": [
       "[1, 2, 3, 4, 5, 'sudh', True, (5+6j)]"
      ]
     },
     "execution_count": 12,
     "metadata": {},
     "output_type": "execute_result"
    }
   ],
   "source": [
    "l\n"
   ]
  },
  {
   "cell_type": "code",
   "execution_count": 14,
   "id": "4ce3606b-72c7-4921-9199-9b074772175c",
   "metadata": {},
   "outputs": [
    {
     "ename": "TypeError",
     "evalue": "'tuple' object does not support item assignment",
     "output_type": "error",
     "traceback": [
      "\u001b[0;31m---------------------------------------------------------------------------\u001b[0m",
      "\u001b[0;31mTypeError\u001b[0m                                 Traceback (most recent call last)",
      "Cell \u001b[0;32mIn[14], line 1\u001b[0m\n\u001b[0;32m----> 1\u001b[0m \u001b[43mt1\u001b[49m\u001b[43m[\u001b[49m\u001b[38;5;241;43m5\u001b[39;49m\u001b[43m]\u001b[49m \u001b[38;5;241m=\u001b[39m \u001b[38;5;124m\"\u001b[39m\u001b[38;5;124mpwskills\u001b[39m\u001b[38;5;124m\"\u001b[39m\n",
      "\u001b[0;31mTypeError\u001b[0m: 'tuple' object does not support item assignment"
     ]
    }
   ],
   "source": [
    "t1[5] = \"pwskills\"\n",
    "#tuples are basically a immutable entity"
   ]
  },
  {
   "cell_type": "code",
   "execution_count": 15,
   "id": "aed9d5bd-b093-450b-9ca2-2a2180065a67",
   "metadata": {},
   "outputs": [],
   "source": [
    "l [5] = \"pwskills\"\n",
    "# lists are basically a mutable entity"
   ]
  },
  {
   "cell_type": "code",
   "execution_count": 16,
   "id": "616bb403-6508-47a9-81ee-31f1438c71ee",
   "metadata": {},
   "outputs": [
    {
     "data": {
      "text/plain": [
       "[1, 2, 3, 4, 5, 'pwskills', True, (5+6j)]"
      ]
     },
     "execution_count": 16,
     "metadata": {},
     "output_type": "execute_result"
    }
   ],
   "source": [
    "l"
   ]
  },
  {
   "cell_type": "code",
   "execution_count": 17,
   "id": "a4f66ff8-0039-4e32-b585-b9d36ca1bc81",
   "metadata": {},
   "outputs": [
    {
     "data": {
      "text/plain": [
       "(1, 2, 3, 4, 5, 'sudh', True, (5+6j))"
      ]
     },
     "execution_count": 17,
     "metadata": {},
     "output_type": "execute_result"
    }
   ],
   "source": [
    "t1"
   ]
  },
  {
   "cell_type": "code",
   "execution_count": 19,
   "id": "0cf448c7-f1ea-4b4b-b5b6-294e1e6ab7cf",
   "metadata": {},
   "outputs": [],
   "source": [
    "l1 = list(t1)"
   ]
  },
  {
   "cell_type": "code",
   "execution_count": 20,
   "id": "27268368-2cba-4975-ba0c-e8897fd11699",
   "metadata": {},
   "outputs": [
    {
     "data": {
      "text/plain": [
       "(1, 2, 3, 4, 5, 'sudh', True, (5+6j))"
      ]
     },
     "execution_count": 20,
     "metadata": {},
     "output_type": "execute_result"
    }
   ],
   "source": [
    "t1"
   ]
  },
  {
   "cell_type": "code",
   "execution_count": 21,
   "id": "aa0700e6-63f2-414f-9735-77f7858f5a8b",
   "metadata": {},
   "outputs": [
    {
     "data": {
      "text/plain": [
       "[1, 2, 3, 4, 5, 'sudh', True, (5+6j)]"
      ]
     },
     "execution_count": 21,
     "metadata": {},
     "output_type": "execute_result"
    }
   ],
   "source": [
    "l1"
   ]
  },
  {
   "cell_type": "code",
   "execution_count": 22,
   "id": "2e8c5182-ff7a-474c-803f-8cb513d9d521",
   "metadata": {},
   "outputs": [
    {
     "data": {
      "text/plain": [
       "(1, 2, 3, 4, 5, 'sudh', True, (5+6j))"
      ]
     },
     "execution_count": 22,
     "metadata": {},
     "output_type": "execute_result"
    }
   ],
   "source": [
    "tuple(l1)"
   ]
  },
  {
   "cell_type": "code",
   "execution_count": 23,
   "id": "4267bf39-5542-4db7-ba1f-cc7bab45c79f",
   "metadata": {},
   "outputs": [
    {
     "data": {
      "text/plain": [
       "0"
      ]
     },
     "execution_count": 23,
     "metadata": {},
     "output_type": "execute_result"
    }
   ],
   "source": [
    "t1.count(100)"
   ]
  },
  {
   "cell_type": "code",
   "execution_count": 24,
   "id": "16c571a1-ebb3-40e8-a943-e0d9373d999a",
   "metadata": {},
   "outputs": [
    {
     "data": {
      "text/plain": [
       "(1, 2, 3, 4, 5, 'sudh', True, (5+6j))"
      ]
     },
     "execution_count": 24,
     "metadata": {},
     "output_type": "execute_result"
    }
   ],
   "source": [
    "t1"
   ]
  },
  {
   "cell_type": "code",
   "execution_count": 25,
   "id": "7a9fe052-d806-4a67-b3eb-1e899998dec9",
   "metadata": {},
   "outputs": [
    {
     "data": {
      "text/plain": [
       "1"
      ]
     },
     "execution_count": 25,
     "metadata": {},
     "output_type": "execute_result"
    }
   ],
   "source": [
    "t1.count(\"sudh\")"
   ]
  },
  {
   "cell_type": "code",
   "execution_count": 26,
   "id": "ed77d809-01ad-41fc-9016-6117b3453f2f",
   "metadata": {},
   "outputs": [
    {
     "data": {
      "text/plain": [
       "[1, 2, 3, 4, 5, 'sudh', True, (5+6j)]"
      ]
     },
     "execution_count": 26,
     "metadata": {},
     "output_type": "execute_result"
    }
   ],
   "source": [
    "l1"
   ]
  },
  {
   "cell_type": "code",
   "execution_count": 27,
   "id": "b3e8c1ef-ab59-438b-a0f3-36d03b3c5ef9",
   "metadata": {},
   "outputs": [
    {
     "data": {
      "text/plain": [
       "1"
      ]
     },
     "execution_count": 27,
     "metadata": {},
     "output_type": "execute_result"
    }
   ],
   "source": [
    "l1.count(4)"
   ]
  },
  {
   "cell_type": "code",
   "execution_count": 28,
   "id": "96e1ccd1-9701-4c7b-90e6-f1ef006072d1",
   "metadata": {},
   "outputs": [
    {
     "data": {
      "text/plain": [
       "(1, 2, 3, 4, 5, 'sudh', True, (5+6j))"
      ]
     },
     "execution_count": 28,
     "metadata": {},
     "output_type": "execute_result"
    }
   ],
   "source": [
    "t1"
   ]
  },
  {
   "cell_type": "code",
   "execution_count": 29,
   "id": "a89c8a73-69ba-4575-ae9d-52df423283b0",
   "metadata": {},
   "outputs": [
    {
     "data": {
      "text/plain": [
       "5"
      ]
     },
     "execution_count": 29,
     "metadata": {},
     "output_type": "execute_result"
    }
   ],
   "source": [
    "t1.index(\"sudh\")\n",
    "\n"
   ]
  },
  {
   "cell_type": "code",
   "execution_count": 30,
   "id": "95a491fb-bf71-4b4e-8337-35fd9d8359a8",
   "metadata": {},
   "outputs": [],
   "source": [
    "t2 = (\"sudh\",3,2,6,7,8,9,7,6,4,\"sudh\")"
   ]
  },
  {
   "cell_type": "code",
   "execution_count": 31,
   "id": "f3054539-a4f0-4a8b-9ad7-b61c5c911715",
   "metadata": {},
   "outputs": [
    {
     "data": {
      "text/plain": [
       "2"
      ]
     },
     "execution_count": 31,
     "metadata": {},
     "output_type": "execute_result"
    }
   ],
   "source": [
    "t2.count(\"sudh\")\n"
   ]
  },
  {
   "cell_type": "code",
   "execution_count": 32,
   "id": "6e335959-1380-4c88-82b4-313dd6a18d02",
   "metadata": {},
   "outputs": [
    {
     "data": {
      "text/plain": [
       "0"
      ]
     },
     "execution_count": 32,
     "metadata": {},
     "output_type": "execute_result"
    }
   ],
   "source": [
    "t2.index(\"sudh\")"
   ]
  },
  {
   "cell_type": "code",
   "execution_count": 33,
   "id": "4277f1b9-c150-4756-8ee9-356107ba7c26",
   "metadata": {},
   "outputs": [
    {
     "data": {
      "text/plain": [
       "3"
      ]
     },
     "execution_count": 33,
     "metadata": {},
     "output_type": "execute_result"
    }
   ],
   "source": [
    "t2.index(6)"
   ]
  },
  {
   "cell_type": "code",
   "execution_count": 34,
   "id": "237adde3-1351-43be-bd3e-52fd9ce30c12",
   "metadata": {},
   "outputs": [],
   "source": [
    "t3 = (4,5,6,7,8)"
   ]
  },
  {
   "cell_type": "code",
   "execution_count": 35,
   "id": "403a6aaf-5084-43cc-b812-580728df9a61",
   "metadata": {},
   "outputs": [
    {
     "data": {
      "text/plain": [
       "4"
      ]
     },
     "execution_count": 35,
     "metadata": {},
     "output_type": "execute_result"
    }
   ],
   "source": [
    "min(t3)"
   ]
  },
  {
   "cell_type": "code",
   "execution_count": 36,
   "id": "fbdda73f-7020-4fdb-8e1b-438f14ab117e",
   "metadata": {},
   "outputs": [
    {
     "data": {
      "text/plain": [
       "8"
      ]
     },
     "execution_count": 36,
     "metadata": {},
     "output_type": "execute_result"
    }
   ],
   "source": [
    "max(t3)"
   ]
  },
  {
   "cell_type": "code",
   "execution_count": 37,
   "id": "a9775784-d3a1-4960-91df-3a285a009c6b",
   "metadata": {},
   "outputs": [
    {
     "data": {
      "text/plain": [
       "5"
      ]
     },
     "execution_count": 37,
     "metadata": {},
     "output_type": "execute_result"
    }
   ],
   "source": [
    "len(t3)"
   ]
  },
  {
   "cell_type": "code",
   "execution_count": null,
   "id": "62d679a9-4c1c-4826-938b-7e36034d331a",
   "metadata": {},
   "outputs": [],
   "source": []
  }
 ],
 "metadata": {
  "kernelspec": {
   "display_name": "Python 3 (ipykernel)",
   "language": "python",
   "name": "python3"
  },
  "language_info": {
   "codemirror_mode": {
    "name": "ipython",
    "version": 3
   },
   "file_extension": ".py",
   "mimetype": "text/x-python",
   "name": "python",
   "nbconvert_exporter": "python",
   "pygments_lexer": "ipython3",
   "version": "3.10.8"
  }
 },
 "nbformat": 4,
 "nbformat_minor": 5
}
