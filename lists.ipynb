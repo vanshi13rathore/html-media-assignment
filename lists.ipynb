{
 "cells": [
  {
   "cell_type": "code",
   "execution_count": 1,
   "id": "1056dfc4-85a5-4f65-a3dd-56fa0466d467",
   "metadata": {},
   "outputs": [],
   "source": [
    "l = []"
   ]
  },
  {
   "cell_type": "code",
   "execution_count": 2,
   "id": "7dd77c34-c611-4f2f-8fde-24cbce746433",
   "metadata": {},
   "outputs": [
    {
     "data": {
      "text/plain": [
       "list"
      ]
     },
     "execution_count": 2,
     "metadata": {},
     "output_type": "execute_result"
    }
   ],
   "source": [
    "type(l)"
   ]
  },
  {
   "cell_type": "code",
   "execution_count": 3,
   "id": "34ae02f5-5a82-4aab-bd58-a5d88e67e3a4",
   "metadata": {},
   "outputs": [],
   "source": [
    "l1 = [1,2,3,4,5,6]"
   ]
  },
  {
   "cell_type": "code",
   "execution_count": 4,
   "id": "3c6bff7f-87cd-43c3-82a9-33332e6c8bb5",
   "metadata": {},
   "outputs": [],
   "source": [
    "a = 1"
   ]
  },
  {
   "cell_type": "code",
   "execution_count": 5,
   "id": "11db68c1-9809-46fa-a15d-ce484884b53e",
   "metadata": {},
   "outputs": [
    {
     "data": {
      "text/plain": [
       "1"
      ]
     },
     "execution_count": 5,
     "metadata": {},
     "output_type": "execute_result"
    }
   ],
   "source": [
    "a"
   ]
  },
  {
   "cell_type": "code",
   "execution_count": 6,
   "id": "a7ec1109-640b-4a6b-9936-8c3e8b0b2ed1",
   "metadata": {},
   "outputs": [
    {
     "data": {
      "text/plain": [
       "[1, 2, 3, 4, 5, 6]"
      ]
     },
     "execution_count": 6,
     "metadata": {},
     "output_type": "execute_result"
    }
   ],
   "source": [
    "l1"
   ]
  },
  {
   "cell_type": "code",
   "execution_count": 7,
   "id": "7f5118f5-f135-4c5e-aa95-d08adf358e5d",
   "metadata": {},
   "outputs": [],
   "source": [
    "l2 = [1,2,3,4.45, \"sudh\" ,True,4+9j]"
   ]
  },
  {
   "cell_type": "code",
   "execution_count": 8,
   "id": "d73349a3-d1e5-445d-9d2b-eb003a10a75d",
   "metadata": {},
   "outputs": [
    {
     "data": {
      "text/plain": [
       "[1, 2, 3, 4.45, 'sudh', True, (4+9j)]"
      ]
     },
     "execution_count": 8,
     "metadata": {},
     "output_type": "execute_result"
    }
   ],
   "source": [
    "l2"
   ]
  },
  {
   "cell_type": "code",
   "execution_count": 28,
   "id": "87ca2006-5535-48cf-857f-2f9f44a9715e",
   "metadata": {},
   "outputs": [],
   "source": [
    "l3 = [\"sudh\" ,5,4.67,True]"
   ]
  },
  {
   "cell_type": "code",
   "execution_count": 29,
   "id": "8ab06a76-15cf-42ea-b2af-8d7e71c5c3eb",
   "metadata": {},
   "outputs": [
    {
     "data": {
      "text/plain": [
       "'sudh'"
      ]
     },
     "execution_count": 29,
     "metadata": {},
     "output_type": "execute_result"
    }
   ],
   "source": [
    "l3[0]"
   ]
  },
  {
   "cell_type": "code",
   "execution_count": 30,
   "id": "9af00037-2bae-4d74-b46e-1bb6c087bf4a",
   "metadata": {},
   "outputs": [
    {
     "data": {
      "text/plain": [
       "True"
      ]
     },
     "execution_count": 30,
     "metadata": {},
     "output_type": "execute_result"
    }
   ],
   "source": [
    "l3[3]"
   ]
  },
  {
   "cell_type": "code",
   "execution_count": 31,
   "id": "9e11a957-2bf0-4622-ab2c-426a63f003ba",
   "metadata": {},
   "outputs": [
    {
     "data": {
      "text/plain": [
       "True"
      ]
     },
     "execution_count": 31,
     "metadata": {},
     "output_type": "execute_result"
    }
   ],
   "source": [
    "l3[-1]"
   ]
  },
  {
   "cell_type": "code",
   "execution_count": 32,
   "id": "b3aa8a55-d1e8-4241-a2b2-7840127b8d89",
   "metadata": {},
   "outputs": [
    {
     "data": {
      "text/plain": [
       "['sudh', 5, 4.67, True]"
      ]
     },
     "execution_count": 32,
     "metadata": {},
     "output_type": "execute_result"
    }
   ],
   "source": [
    "l3"
   ]
  },
  {
   "cell_type": "code",
   "execution_count": 34,
   "id": "346cde2b-b6e7-4011-96b1-e781ea5ef22c",
   "metadata": {},
   "outputs": [
    {
     "data": {
      "text/plain": [
       "['sudh', 5]"
      ]
     },
     "execution_count": 34,
     "metadata": {},
     "output_type": "execute_result"
    }
   ],
   "source": [
    "l3[0:2]"
   ]
  },
  {
   "cell_type": "code",
   "execution_count": 37,
   "id": "6d4b5a84-75b8-4a49-a94b-6581a85420a5",
   "metadata": {},
   "outputs": [],
   "source": [
    "l3 = l3[::-1]"
   ]
  },
  {
   "cell_type": "code",
   "execution_count": 38,
   "id": "5cbec3f1-d367-40f6-8a4e-a54ce61be0be",
   "metadata": {},
   "outputs": [
    {
     "data": {
      "text/plain": [
       "[True, 4.67, 5, 'sudh']"
      ]
     },
     "execution_count": 38,
     "metadata": {},
     "output_type": "execute_result"
    }
   ],
   "source": [
    "l3"
   ]
  },
  {
   "cell_type": "code",
   "execution_count": 39,
   "id": "9b93ba33-75d0-40df-a372-5cb79d3e7a52",
   "metadata": {},
   "outputs": [
    {
     "data": {
      "text/plain": [
       "[True, 4.67, 5, 'sudh']"
      ]
     },
     "execution_count": 39,
     "metadata": {},
     "output_type": "execute_result"
    }
   ],
   "source": [
    "l3"
   ]
  },
  {
   "cell_type": "code",
   "execution_count": 41,
   "id": "949cab9c-bf58-46b4-bce7-8079c3e97986",
   "metadata": {},
   "outputs": [],
   "source": [
    "l3[0] = 100"
   ]
  },
  {
   "cell_type": "code",
   "execution_count": 42,
   "id": "c96bda07-5592-4e52-abbf-c1529fcf792e",
   "metadata": {},
   "outputs": [
    {
     "data": {
      "text/plain": [
       "[100, 4.67, 5, 'sudh']"
      ]
     },
     "execution_count": 42,
     "metadata": {},
     "output_type": "execute_result"
    }
   ],
   "source": [
    "l3"
   ]
  },
  {
   "cell_type": "code",
   "execution_count": 43,
   "id": "aa78db6a-479f-40cd-a5fd-5688eadc2517",
   "metadata": {},
   "outputs": [],
   "source": [
    "s = \"pwskills\""
   ]
  },
  {
   "cell_type": "code",
   "execution_count": 44,
   "id": "61eaa1f5-3dcd-4672-8a69-8551f412e6a1",
   "metadata": {},
   "outputs": [
    {
     "data": {
      "text/plain": [
       "'pwskills'"
      ]
     },
     "execution_count": 44,
     "metadata": {},
     "output_type": "execute_result"
    }
   ],
   "source": [
    "s"
   ]
  },
  {
   "cell_type": "code",
   "execution_count": 45,
   "id": "91a1190e-26b0-4066-9887-d92711317830",
   "metadata": {},
   "outputs": [
    {
     "data": {
      "text/plain": [
       "'p'"
      ]
     },
     "execution_count": 45,
     "metadata": {},
     "output_type": "execute_result"
    }
   ],
   "source": [
    "s[0]"
   ]
  },
  {
   "cell_type": "code",
   "execution_count": 46,
   "id": "80cf2e88-42bc-4fb0-aa72-28694ccbdf01",
   "metadata": {},
   "outputs": [
    {
     "data": {
      "text/plain": [
       "[100, 4.67, 5, 'sudh']"
      ]
     },
     "execution_count": 46,
     "metadata": {},
     "output_type": "execute_result"
    }
   ],
   "source": [
    "l3"
   ]
  },
  {
   "cell_type": "code",
   "execution_count": null,
   "id": "01ec76d3-2887-49e1-9fd2-f8255b099567",
   "metadata": {},
   "outputs": [],
   "source": []
  }
 ],
 "metadata": {
  "kernelspec": {
   "display_name": "Python 3 (ipykernel)",
   "language": "python",
   "name": "python3"
  },
  "language_info": {
   "codemirror_mode": {
    "name": "ipython",
    "version": 3
   },
   "file_extension": ".py",
   "mimetype": "text/x-python",
   "name": "python",
   "nbconvert_exporter": "python",
   "pygments_lexer": "ipython3",
   "version": "3.10.8"
  }
 },
 "nbformat": 4,
 "nbformat_minor": 5
}
