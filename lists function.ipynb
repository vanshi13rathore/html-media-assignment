{
 "cells": [
  {
   "cell_type": "code",
   "execution_count": 3,
   "id": "53520010-a724-4cf0-8a37-be04a999a84f",
   "metadata": {},
   "outputs": [],
   "source": [
    "l = [3,4,5,34.56, \"sudh\" ,True]"
   ]
  },
  {
   "cell_type": "code",
   "execution_count": 5,
   "id": "1ff1f5e1-1c5b-481f-b364-b63b37e2e341",
   "metadata": {},
   "outputs": [
    {
     "data": {
      "text/plain": [
       "list"
      ]
     },
     "execution_count": 5,
     "metadata": {},
     "output_type": "execute_result"
    }
   ],
   "source": [
    "type(l)"
   ]
  },
  {
   "cell_type": "code",
   "execution_count": 6,
   "id": "06bac235-35a3-4db3-a946-2ce5482daea8",
   "metadata": {},
   "outputs": [
    {
     "data": {
      "text/plain": [
       "[3, 4, 5, 34.56, 'sudh', True, 3, 4, 5, 34.56, 'sudh', True]"
      ]
     },
     "execution_count": 6,
     "metadata": {},
     "output_type": "execute_result"
    }
   ],
   "source": [
    "l*2"
   ]
  },
  {
   "cell_type": "code",
   "execution_count": 7,
   "id": "db55448e-8ae7-46c2-84f0-c66d3c6bac76",
   "metadata": {},
   "outputs": [
    {
     "data": {
      "text/plain": [
       "[3,\n",
       " 4,\n",
       " 5,\n",
       " 34.56,\n",
       " 'sudh',\n",
       " True,\n",
       " 3,\n",
       " 4,\n",
       " 5,\n",
       " 34.56,\n",
       " 'sudh',\n",
       " True,\n",
       " 3,\n",
       " 4,\n",
       " 5,\n",
       " 34.56,\n",
       " 'sudh',\n",
       " True]"
      ]
     },
     "execution_count": 7,
     "metadata": {},
     "output_type": "execute_result"
    }
   ],
   "source": [
    "l*3"
   ]
  },
  {
   "cell_type": "code",
   "execution_count": 11,
   "id": "f8170370-f39b-413b-8e29-81c8d621acf6",
   "metadata": {},
   "outputs": [],
   "source": [
    "s = \"sudh \""
   ]
  },
  {
   "cell_type": "code",
   "execution_count": 12,
   "id": "ee526256-a0d6-49d4-9e0b-2d114c97862d",
   "metadata": {},
   "outputs": [
    {
     "data": {
      "text/plain": [
       "'sudh sudh sudh '"
      ]
     },
     "execution_count": 12,
     "metadata": {},
     "output_type": "execute_result"
    }
   ],
   "source": [
    "s * 3"
   ]
  },
  {
   "cell_type": "code",
   "execution_count": 15,
   "id": "6401f64a-3998-452e-8506-491a4298e9c8",
   "metadata": {},
   "outputs": [
    {
     "data": {
      "text/plain": [
       "[3, 4, 5, 34.56, 'sudh', True]"
      ]
     },
     "execution_count": 15,
     "metadata": {},
     "output_type": "execute_result"
    }
   ],
   "source": [
    "l"
   ]
  },
  {
   "cell_type": "code",
   "execution_count": 17,
   "id": "6333fdf7-3a41-4a1f-a5c3-6aa31de1cb7c",
   "metadata": {},
   "outputs": [],
   "source": [
    "l1 = [3,4,5,6]"
   ]
  },
  {
   "cell_type": "code",
   "execution_count": 19,
   "id": "298ab4af-77fb-4e3a-88fc-ec55a8e90eda",
   "metadata": {},
   "outputs": [
    {
     "data": {
      "text/plain": [
       "[3, 4, 5, 34.56, 'sudh', True, 3, 4, 5, 6]"
      ]
     },
     "execution_count": 19,
     "metadata": {},
     "output_type": "execute_result"
    }
   ],
   "source": [
    "\n",
    "l+l1"
   ]
  },
  {
   "cell_type": "code",
   "execution_count": 21,
   "id": "6cf813ec-7cc0-4786-b285-4047c0da773b",
   "metadata": {},
   "outputs": [
    {
     "ename": "TypeError",
     "evalue": "can only concatenate list (not \"int\") to list",
     "output_type": "error",
     "traceback": [
      "\u001b[0;31m---------------------------------------------------------------------------\u001b[0m",
      "\u001b[0;31mTypeError\u001b[0m                                 Traceback (most recent call last)",
      "Cell \u001b[0;32mIn[21], line 1\u001b[0m\n\u001b[0;32m----> 1\u001b[0m \u001b[43ml\u001b[49m\u001b[38;5;241;43m+\u001b[39;49m\u001b[38;5;241;43m1\u001b[39;49m\n",
      "\u001b[0;31mTypeError\u001b[0m: can only concatenate list (not \"int\") to list"
     ]
    }
   ],
   "source": [
    "l+1\n"
   ]
  },
  {
   "cell_type": "code",
   "execution_count": 23,
   "id": "8e9ba737-8444-4664-8ca0-533e445e8075",
   "metadata": {},
   "outputs": [
    {
     "ename": "TypeError",
     "evalue": "can only concatenate list (not \"str\") to list",
     "output_type": "error",
     "traceback": [
      "\u001b[0;31m---------------------------------------------------------------------------\u001b[0m",
      "\u001b[0;31mTypeError\u001b[0m                                 Traceback (most recent call last)",
      "Cell \u001b[0;32mIn[23], line 1\u001b[0m\n\u001b[0;32m----> 1\u001b[0m \u001b[43ml\u001b[49m\u001b[38;5;241;43m+\u001b[39;49m\u001b[38;5;124;43m\"\u001b[39;49m\u001b[38;5;124;43msudh\u001b[39;49m\u001b[38;5;124;43m\"\u001b[39;49m\n",
      "\u001b[0;31mTypeError\u001b[0m: can only concatenate list (not \"str\") to list"
     ]
    }
   ],
   "source": [
    "l+\"sudh\""
   ]
  },
  {
   "cell_type": "code",
   "execution_count": 25,
   "id": "cd6fe26c-357e-4644-bcd1-695e343e5087",
   "metadata": {},
   "outputs": [
    {
     "data": {
      "text/plain": [
       "[3, 4, 5, 34.56, 'sudh', True]"
      ]
     },
     "execution_count": 25,
     "metadata": {},
     "output_type": "execute_result"
    }
   ],
   "source": [
    "l"
   ]
  },
  {
   "cell_type": "code",
   "execution_count": 26,
   "id": "86cff122-f9d7-487c-8e8f-d529c931e303",
   "metadata": {},
   "outputs": [
    {
     "data": {
      "text/plain": [
       "6"
      ]
     },
     "execution_count": 26,
     "metadata": {},
     "output_type": "execute_result"
    }
   ],
   "source": [
    "len(l)\n"
   ]
  },
  {
   "cell_type": "code",
   "execution_count": 27,
   "id": "2b28a930-6e90-41ca-a284-72f39e6897b6",
   "metadata": {},
   "outputs": [
    {
     "data": {
      "text/plain": [
       "'sudh '"
      ]
     },
     "execution_count": 27,
     "metadata": {},
     "output_type": "execute_result"
    }
   ],
   "source": [
    "s\n",
    "\n",
    "\n"
   ]
  },
  {
   "cell_type": "code",
   "execution_count": 28,
   "id": "21d5ffa1-ec2d-46a1-ae77-45b980ba37f5",
   "metadata": {},
   "outputs": [
    {
     "data": {
      "text/plain": [
       "5"
      ]
     },
     "execution_count": 28,
     "metadata": {},
     "output_type": "execute_result"
    }
   ],
   "source": [
    "len(s)"
   ]
  },
  {
   "cell_type": "code",
   "execution_count": 29,
   "id": "0280039a-2120-40a9-a3ea-49ffb17256fb",
   "metadata": {},
   "outputs": [
    {
     "ename": "TypeError",
     "evalue": "object of type 'int' has no len()",
     "output_type": "error",
     "traceback": [
      "\u001b[0;31m---------------------------------------------------------------------------\u001b[0m",
      "\u001b[0;31mTypeError\u001b[0m                                 Traceback (most recent call last)",
      "Cell \u001b[0;32mIn[29], line 1\u001b[0m\n\u001b[0;32m----> 1\u001b[0m \u001b[38;5;28;43mlen\u001b[39;49m\u001b[43m(\u001b[49m\u001b[38;5;241;43m236\u001b[39;49m\u001b[43m)\u001b[49m\n",
      "\u001b[0;31mTypeError\u001b[0m: object of type 'int' has no len()"
     ]
    }
   ],
   "source": [
    "len(236)"
   ]
  },
  {
   "cell_type": "code",
   "execution_count": 30,
   "id": "f72fb1ee-08f1-40be-adf8-6f532fcd8c01",
   "metadata": {},
   "outputs": [
    {
     "data": {
      "text/plain": [
       "[3, 4, 5, 34.56, 'sudh', True]"
      ]
     },
     "execution_count": 30,
     "metadata": {},
     "output_type": "execute_result"
    }
   ],
   "source": [
    "l"
   ]
  },
  {
   "cell_type": "code",
   "execution_count": 31,
   "id": "e7e7a50e-43a2-4196-810f-fa81cae927f2",
   "metadata": {},
   "outputs": [
    {
     "data": {
      "text/plain": [
       "True"
      ]
     },
     "execution_count": 31,
     "metadata": {},
     "output_type": "execute_result"
    }
   ],
   "source": [
    "\"sudh\" in l"
   ]
  },
  {
   "cell_type": "code",
   "execution_count": 33,
   "id": "c5a64ad7-eb2d-45ad-b402-740a81cfb2ae",
   "metadata": {},
   "outputs": [
    {
     "data": {
      "text/plain": [
       "False"
      ]
     },
     "execution_count": 33,
     "metadata": {},
     "output_type": "execute_result"
    }
   ],
   "source": [
    "100 in l"
   ]
  },
  {
   "cell_type": "code",
   "execution_count": 34,
   "id": "55232c74-2db4-4734-8c5b-3a96f82f1085",
   "metadata": {},
   "outputs": [
    {
     "data": {
      "text/plain": [
       "[3, 4, 5, 6]"
      ]
     },
     "execution_count": 34,
     "metadata": {},
     "output_type": "execute_result"
    }
   ],
   "source": [
    "l1"
   ]
  },
  {
   "cell_type": "code",
   "execution_count": 35,
   "id": "d365106e-a172-4d46-9e0d-c0ad59063b20",
   "metadata": {},
   "outputs": [
    {
     "data": {
      "text/plain": [
       "6"
      ]
     },
     "execution_count": 35,
     "metadata": {},
     "output_type": "execute_result"
    }
   ],
   "source": [
    "max(l1)"
   ]
  },
  {
   "cell_type": "code",
   "execution_count": 36,
   "id": "d236e284-60ef-491d-99df-d1084e269873",
   "metadata": {},
   "outputs": [
    {
     "data": {
      "text/plain": [
       "[3, 4, 5, 34.56, 'sudh', True]"
      ]
     },
     "execution_count": 36,
     "metadata": {},
     "output_type": "execute_result"
    }
   ],
   "source": [
    "l"
   ]
  },
  {
   "cell_type": "code",
   "execution_count": 37,
   "id": "051b2fbd-fd6f-4ffc-8c78-bf711979045b",
   "metadata": {},
   "outputs": [
    {
     "ename": "TypeError",
     "evalue": "'>' not supported between instances of 'str' and 'float'",
     "output_type": "error",
     "traceback": [
      "\u001b[0;31m---------------------------------------------------------------------------\u001b[0m",
      "\u001b[0;31mTypeError\u001b[0m                                 Traceback (most recent call last)",
      "Cell \u001b[0;32mIn[37], line 1\u001b[0m\n\u001b[0;32m----> 1\u001b[0m \u001b[38;5;28;43mmax\u001b[39;49m\u001b[43m(\u001b[49m\u001b[43ml\u001b[49m\u001b[43m)\u001b[49m\n",
      "\u001b[0;31mTypeError\u001b[0m: '>' not supported between instances of 'str' and 'float'"
     ]
    }
   ],
   "source": [
    "max(l)\n"
   ]
  },
  {
   "cell_type": "code",
   "execution_count": 39,
   "id": "fe4af94a-f65d-447c-8b92-705060a419f7",
   "metadata": {},
   "outputs": [],
   "source": [
    "l2 = [\"sudh\",\"audh\",\"abc\",\"zrt\"]"
   ]
  },
  {
   "cell_type": "code",
   "execution_count": 40,
   "id": "a4e72ab5-617a-413e-ac0a-dd50f3dc7ddc",
   "metadata": {},
   "outputs": [
    {
     "data": {
      "text/plain": [
       "'zrt'"
      ]
     },
     "execution_count": 40,
     "metadata": {},
     "output_type": "execute_result"
    }
   ],
   "source": [
    "max(l2)"
   ]
  },
  {
   "cell_type": "code",
   "execution_count": 41,
   "id": "00b47a61-4f9c-4f33-a4d7-fcdd5b12a443",
   "metadata": {},
   "outputs": [
    {
     "data": {
      "text/plain": [
       "'abc'"
      ]
     },
     "execution_count": 41,
     "metadata": {},
     "output_type": "execute_result"
    }
   ],
   "source": [
    "min(l2)"
   ]
  },
  {
   "cell_type": "code",
   "execution_count": 42,
   "id": "7aca781c-6656-4c14-9bc4-a2b37a18791e",
   "metadata": {},
   "outputs": [],
   "source": [
    "l3 = [True,False]\n"
   ]
  },
  {
   "cell_type": "code",
   "execution_count": 43,
   "id": "39e2034d-6280-4853-bc51-f6a1ea5921e5",
   "metadata": {},
   "outputs": [
    {
     "data": {
      "text/plain": [
       "True"
      ]
     },
     "execution_count": 43,
     "metadata": {},
     "output_type": "execute_result"
    }
   ],
   "source": [
    "max(l3)"
   ]
  },
  {
   "cell_type": "code",
   "execution_count": 44,
   "id": "71078297-7c05-4957-988f-ed0a6f59eb14",
   "metadata": {},
   "outputs": [
    {
     "data": {
      "text/plain": [
       "False"
      ]
     },
     "execution_count": 44,
     "metadata": {},
     "output_type": "execute_result"
    }
   ],
   "source": [
    "min(l3)"
   ]
  },
  {
   "cell_type": "code",
   "execution_count": 45,
   "id": "320702db-4327-4bdb-b1c1-52920b884b7d",
   "metadata": {},
   "outputs": [
    {
     "data": {
      "text/plain": [
       "['sudh', 'audh', 'abc', 'zrt']"
      ]
     },
     "execution_count": 45,
     "metadata": {},
     "output_type": "execute_result"
    }
   ],
   "source": [
    "l2"
   ]
  },
  {
   "cell_type": "code",
   "execution_count": 46,
   "id": "ea2561f7-191c-4794-acd0-0d773d87e2e1",
   "metadata": {},
   "outputs": [],
   "source": [
    "l2.append(45)\n"
   ]
  },
  {
   "cell_type": "code",
   "execution_count": 47,
   "id": "6de80224-89cb-4bbf-a2e8-062ecb7e5093",
   "metadata": {},
   "outputs": [
    {
     "data": {
      "text/plain": [
       "['sudh', 'audh', 'abc', 'zrt', 45]"
      ]
     },
     "execution_count": 47,
     "metadata": {},
     "output_type": "execute_result"
    }
   ],
   "source": [
    "l2"
   ]
  },
  {
   "cell_type": "code",
   "execution_count": 48,
   "id": "93a4258b-d9cc-4df4-8e51-a5d841d58bed",
   "metadata": {},
   "outputs": [],
   "source": [
    "l2.append(\"pwskills\")"
   ]
  },
  {
   "cell_type": "code",
   "execution_count": 49,
   "id": "e7abd660-bec5-4ab9-92d7-7a9256522d2b",
   "metadata": {},
   "outputs": [
    {
     "data": {
      "text/plain": [
       "['sudh', 'audh', 'abc', 'zrt', 45, 'pwskills']"
      ]
     },
     "execution_count": 49,
     "metadata": {},
     "output_type": "execute_result"
    }
   ],
   "source": [
    "l2"
   ]
  },
  {
   "cell_type": "code",
   "execution_count": 50,
   "id": "a91d7afa-4c40-49ea-a437-81c4c60ae6d9",
   "metadata": {},
   "outputs": [],
   "source": [
    "l2.insert(1,353)\n"
   ]
  },
  {
   "cell_type": "code",
   "execution_count": 52,
   "id": "8986c88b-29b4-4fd4-954b-f978d17accf5",
   "metadata": {},
   "outputs": [
    {
     "data": {
      "text/plain": [
       "['sudh', 353, 'audh', 'abc', 'zrt', 45, 'pwskills']"
      ]
     },
     "execution_count": 52,
     "metadata": {},
     "output_type": "execute_result"
    }
   ],
   "source": [
    "l2\n"
   ]
  },
  {
   "cell_type": "code",
   "execution_count": 53,
   "id": "1b082922-cb1d-460b-965b-1b6f708abcc6",
   "metadata": {},
   "outputs": [],
   "source": [
    "l2.insert(0,2424)"
   ]
  },
  {
   "cell_type": "code",
   "execution_count": 54,
   "id": "6e3cbfa6-2d5c-4774-8bd7-bf66fb1a0864",
   "metadata": {},
   "outputs": [
    {
     "data": {
      "text/plain": [
       "[2424, 'sudh', 353, 'audh', 'abc', 'zrt', 45, 'pwskills']"
      ]
     },
     "execution_count": 54,
     "metadata": {},
     "output_type": "execute_result"
    }
   ],
   "source": [
    "l2"
   ]
  },
  {
   "cell_type": "code",
   "execution_count": 55,
   "id": "7c09ef38-c7c3-429d-91b4-d25261dca65b",
   "metadata": {},
   "outputs": [
    {
     "data": {
      "text/plain": [
       "'pwskills'"
      ]
     },
     "execution_count": 55,
     "metadata": {},
     "output_type": "execute_result"
    }
   ],
   "source": [
    "l2.pop()"
   ]
  },
  {
   "cell_type": "code",
   "execution_count": 56,
   "id": "381b7b88-2c7a-4d73-8b8d-cdbd6ac9e47d",
   "metadata": {},
   "outputs": [
    {
     "data": {
      "text/plain": [
       "[2424, 'sudh', 353, 'audh', 'abc', 'zrt', 45]"
      ]
     },
     "execution_count": 56,
     "metadata": {},
     "output_type": "execute_result"
    }
   ],
   "source": [
    "l2"
   ]
  },
  {
   "cell_type": "code",
   "execution_count": 57,
   "id": "e6987c44-c912-4d53-8aa2-1e6da8ec4011",
   "metadata": {},
   "outputs": [
    {
     "data": {
      "text/plain": [
       "353"
      ]
     },
     "execution_count": 57,
     "metadata": {},
     "output_type": "execute_result"
    }
   ],
   "source": [
    "l2.pop(2)"
   ]
  },
  {
   "cell_type": "code",
   "execution_count": 58,
   "id": "476266c8-5501-493f-a7b9-807156c279e3",
   "metadata": {},
   "outputs": [
    {
     "data": {
      "text/plain": [
       "[2424, 'sudh', 'audh', 'abc', 'zrt', 45]"
      ]
     },
     "execution_count": 58,
     "metadata": {},
     "output_type": "execute_result"
    }
   ],
   "source": [
    "l2"
   ]
  },
  {
   "cell_type": "code",
   "execution_count": 59,
   "id": "119d9f1f-dfd2-4286-8412-cc10ccb5f116",
   "metadata": {},
   "outputs": [
    {
     "data": {
      "text/plain": [
       "[45, 'zrt', 'abc', 'audh', 'sudh', 2424]"
      ]
     },
     "execution_count": 59,
     "metadata": {},
     "output_type": "execute_result"
    }
   ],
   "source": [
    "l2[::-1]\n",
    "\n"
   ]
  },
  {
   "cell_type": "code",
   "execution_count": 60,
   "id": "2d657e9e-26e9-471b-a1e5-2707f94b4ed5",
   "metadata": {},
   "outputs": [],
   "source": [
    "l2.reverse()"
   ]
  },
  {
   "cell_type": "code",
   "execution_count": 61,
   "id": "44904d2d-7a98-4801-bd2c-11fd291f2ee2",
   "metadata": {},
   "outputs": [
    {
     "data": {
      "text/plain": [
       "[45, 'zrt', 'abc', 'audh', 'sudh', 2424]"
      ]
     },
     "execution_count": 61,
     "metadata": {},
     "output_type": "execute_result"
    }
   ],
   "source": [
    "l2"
   ]
  },
  {
   "cell_type": "code",
   "execution_count": 62,
   "id": "9ca41e03-9cff-4416-b84f-1a6960789644",
   "metadata": {},
   "outputs": [
    {
     "ename": "TypeError",
     "evalue": "'<' not supported between instances of 'str' and 'int'",
     "output_type": "error",
     "traceback": [
      "\u001b[0;31m---------------------------------------------------------------------------\u001b[0m",
      "\u001b[0;31mTypeError\u001b[0m                                 Traceback (most recent call last)",
      "Cell \u001b[0;32mIn[62], line 1\u001b[0m\n\u001b[0;32m----> 1\u001b[0m \u001b[43ml2\u001b[49m\u001b[38;5;241;43m.\u001b[39;49m\u001b[43msort\u001b[49m\u001b[43m(\u001b[49m\u001b[43m)\u001b[49m\n",
      "\u001b[0;31mTypeError\u001b[0m: '<' not supported between instances of 'str' and 'int'"
     ]
    }
   ],
   "source": [
    "l2.sort()\n"
   ]
  },
  {
   "cell_type": "code",
   "execution_count": 63,
   "id": "6fd52d95-8ee4-41c1-bb60-39b3e7c6a0a2",
   "metadata": {},
   "outputs": [
    {
     "data": {
      "text/plain": [
       "[3, 4, 5, 6]"
      ]
     },
     "execution_count": 63,
     "metadata": {},
     "output_type": "execute_result"
    }
   ],
   "source": [
    "l1"
   ]
  },
  {
   "cell_type": "code",
   "execution_count": 64,
   "id": "1807570b-493b-4ff7-9530-bd46820d1d43",
   "metadata": {},
   "outputs": [],
   "source": [
    "l1.sort()\n"
   ]
  },
  {
   "cell_type": "code",
   "execution_count": 65,
   "id": "6fe83d89-c9a3-44c3-addd-62de695c3eb1",
   "metadata": {},
   "outputs": [
    {
     "data": {
      "text/plain": [
       "[3, 4, 5, 6]"
      ]
     },
     "execution_count": 65,
     "metadata": {},
     "output_type": "execute_result"
    }
   ],
   "source": [
    "l1"
   ]
  },
  {
   "cell_type": "code",
   "execution_count": 66,
   "id": "e3e0dc1c-d87d-423b-a91a-f03a91a70b71",
   "metadata": {},
   "outputs": [],
   "source": [
    "l4 = [1,4,5,6,3,2,9,0,4.6,7]"
   ]
  },
  {
   "cell_type": "code",
   "execution_count": 67,
   "id": "cf8c63eb-b3b4-45e8-b1d5-d55edddc1ae5",
   "metadata": {},
   "outputs": [],
   "source": [
    "l4.sort()"
   ]
  },
  {
   "cell_type": "code",
   "execution_count": 68,
   "id": "c7c17760-da7b-42f0-923e-df8020ad4029",
   "metadata": {},
   "outputs": [
    {
     "data": {
      "text/plain": [
       "[0, 1, 2, 3, 4, 4.6, 5, 6, 7, 9]"
      ]
     },
     "execution_count": 68,
     "metadata": {},
     "output_type": "execute_result"
    }
   ],
   "source": [
    "l4"
   ]
  },
  {
   "cell_type": "code",
   "execution_count": 69,
   "id": "2a238e2c-a756-47fe-8ae7-856e9fdc2e6b",
   "metadata": {},
   "outputs": [],
   "source": [
    "l5 = [\"pwskills\",\"collegewallah\",\"sudh\",\"python\"]"
   ]
  },
  {
   "cell_type": "code",
   "execution_count": 72,
   "id": "e1f99e26-d2cf-49eb-8faf-9a641232eaa2",
   "metadata": {},
   "outputs": [],
   "source": [
    "l5.sort(reverse=True)"
   ]
  },
  {
   "cell_type": "code",
   "execution_count": 73,
   "id": "5c9bc751-2e84-4616-bc1c-c4e960bf69bf",
   "metadata": {},
   "outputs": [
    {
     "data": {
      "text/plain": [
       "['sudh', 'python', 'pwskills', 'collegewallah']"
      ]
     },
     "execution_count": 73,
     "metadata": {},
     "output_type": "execute_result"
    }
   ],
   "source": [
    "l5"
   ]
  },
  {
   "cell_type": "code",
   "execution_count": 78,
   "id": "9e4d3ff1-5c96-459e-9513-71ce8ea41aa9",
   "metadata": {},
   "outputs": [],
   "source": [
    "l4.sort(reverse=True)\n"
   ]
  },
  {
   "cell_type": "code",
   "execution_count": 79,
   "id": "4acf7b8d-9cac-46a8-88e6-47a43e4b8357",
   "metadata": {},
   "outputs": [
    {
     "data": {
      "text/plain": [
       "[9, 7, 6, 5, 4.6, 4, 3, 2, 1, 0]"
      ]
     },
     "execution_count": 79,
     "metadata": {},
     "output_type": "execute_result"
    }
   ],
   "source": [
    "l4"
   ]
  },
  {
   "cell_type": "code",
   "execution_count": 80,
   "id": "e5665615-d4c4-4f58-ac87-3e704fc8f6c7",
   "metadata": {},
   "outputs": [
    {
     "data": {
      "text/plain": [
       "[3, 4, 5, 6]"
      ]
     },
     "execution_count": 80,
     "metadata": {},
     "output_type": "execute_result"
    }
   ],
   "source": [
    "l1"
   ]
  },
  {
   "cell_type": "code",
   "execution_count": 81,
   "id": "01233332-e043-414f-8166-6c21b5a24cd9",
   "metadata": {},
   "outputs": [
    {
     "data": {
      "text/plain": [
       "[45, 'zrt', 'abc', 'audh', 'sudh', 2424]"
      ]
     },
     "execution_count": 81,
     "metadata": {},
     "output_type": "execute_result"
    }
   ],
   "source": [
    "l2"
   ]
  },
  {
   "cell_type": "code",
   "execution_count": 82,
   "id": "43aedf2e-6a82-477d-8e37-36968eb90171",
   "metadata": {},
   "outputs": [
    {
     "data": {
      "text/plain": [
       "[True, False]"
      ]
     },
     "execution_count": 82,
     "metadata": {},
     "output_type": "execute_result"
    }
   ],
   "source": [
    "l3"
   ]
  },
  {
   "cell_type": "code",
   "execution_count": 83,
   "id": "e0fc79fd-3324-4f4a-836a-44597c76282a",
   "metadata": {},
   "outputs": [
    {
     "data": {
      "text/plain": [
       "[9, 7, 6, 5, 4.6, 4, 3, 2, 1, 0]"
      ]
     },
     "execution_count": 83,
     "metadata": {},
     "output_type": "execute_result"
    }
   ],
   "source": [
    "l4\n",
    "\n"
   ]
  },
  {
   "cell_type": "code",
   "execution_count": 84,
   "id": "490d5c4a-df26-4cb4-a1fa-46f4bb435db3",
   "metadata": {},
   "outputs": [
    {
     "data": {
      "text/plain": [
       "['sudh', 'python', 'pwskills', 'collegewallah']"
      ]
     },
     "execution_count": 84,
     "metadata": {},
     "output_type": "execute_result"
    }
   ],
   "source": [
    "l5"
   ]
  },
  {
   "cell_type": "code",
   "execution_count": 85,
   "id": "a706d2b8-10cb-40c1-9d43-72ce9c1b785a",
   "metadata": {},
   "outputs": [
    {
     "data": {
      "text/plain": [
       "[[3, 4, 5, 6],\n",
       " [45, 'zrt', 'abc', 'audh', 'sudh', 2424],\n",
       " [True, False],\n",
       " [9, 7, 6, 5, 4.6, 4, 3, 2, 1, 0]]"
      ]
     },
     "execution_count": 85,
     "metadata": {},
     "output_type": "execute_result"
    }
   ],
   "source": [
    "[l1,l2,l3,l4]"
   ]
  },
  {
   "cell_type": "code",
   "execution_count": 87,
   "id": "53262e8f-1628-41e3-b12c-d825d42f2ca4",
   "metadata": {},
   "outputs": [],
   "source": [
    "l5 = [l1,l2]\n"
   ]
  },
  {
   "cell_type": "code",
   "execution_count": 88,
   "id": "88eec627-72ca-4258-8cd3-beb7592e4182",
   "metadata": {},
   "outputs": [
    {
     "data": {
      "text/plain": [
       "[[3, 4, 5, 6], [45, 'zrt', 'abc', 'audh', 'sudh', 2424]]"
      ]
     },
     "execution_count": 88,
     "metadata": {},
     "output_type": "execute_result"
    }
   ],
   "source": [
    "l5"
   ]
  },
  {
   "cell_type": "code",
   "execution_count": 89,
   "id": "b7bef8ed-ed1d-4b2b-b87e-b01f3d61eac9",
   "metadata": {},
   "outputs": [
    {
     "data": {
      "text/plain": [
       "2"
      ]
     },
     "execution_count": 89,
     "metadata": {},
     "output_type": "execute_result"
    }
   ],
   "source": [
    "len(l5)"
   ]
  },
  {
   "cell_type": "code",
   "execution_count": 90,
   "id": "77401bbe-67ad-4ac9-a8b9-ffbb00b90c90",
   "metadata": {},
   "outputs": [],
   "source": [
    "l6 = [l1,l2,l3,\"sudh\",56,45,78.89,True,8+5j]"
   ]
  },
  {
   "cell_type": "code",
   "execution_count": 91,
   "id": "1dcb471d-cf23-4ff7-ab7e-9f09e7fbff38",
   "metadata": {},
   "outputs": [
    {
     "data": {
      "text/plain": [
       "[[3, 4, 5, 6],\n",
       " [45, 'zrt', 'abc', 'audh', 'sudh', 2424],\n",
       " [True, False],\n",
       " 'sudh',\n",
       " 56,\n",
       " 45,\n",
       " 78.89,\n",
       " True,\n",
       " (8+5j)]"
      ]
     },
     "execution_count": 91,
     "metadata": {},
     "output_type": "execute_result"
    }
   ],
   "source": [
    "l6"
   ]
  },
  {
   "cell_type": "code",
   "execution_count": 94,
   "id": "a1432ce5-52d7-4968-978b-074fe6cbff36",
   "metadata": {},
   "outputs": [
    {
     "data": {
      "text/plain": [
       "'abc'"
      ]
     },
     "execution_count": 94,
     "metadata": {},
     "output_type": "execute_result"
    }
   ],
   "source": [
    "l6[1][2]"
   ]
  },
  {
   "cell_type": "code",
   "execution_count": 96,
   "id": "3bfa8d78-32a9-412a-9d1f-ed6d02c55099",
   "metadata": {},
   "outputs": [
    {
     "data": {
      "text/plain": [
       "'d'"
      ]
     },
     "execution_count": 96,
     "metadata": {},
     "output_type": "execute_result"
    }
   ],
   "source": [
    "l6[3][2]"
   ]
  },
  {
   "cell_type": "code",
   "execution_count": null,
   "id": "b6a6fdf3-0e34-4b54-8a3a-48b298c6d56e",
   "metadata": {},
   "outputs": [],
   "source": []
  }
 ],
 "metadata": {
  "kernelspec": {
   "display_name": "Python 3 (ipykernel)",
   "language": "python",
   "name": "python3"
  },
  "language_info": {
   "codemirror_mode": {
    "name": "ipython",
    "version": 3
   },
   "file_extension": ".py",
   "mimetype": "text/x-python",
   "name": "python",
   "nbconvert_exporter": "python",
   "pygments_lexer": "ipython3",
   "version": "3.10.8"
  }
 },
 "nbformat": 4,
 "nbformat_minor": 5
}
